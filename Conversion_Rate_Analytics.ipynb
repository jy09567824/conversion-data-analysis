{
 "cells": [
  {
   "cell_type": "markdown",
   "metadata": {},
   "source": [
    "# Conversion Rate EDA\n",
    "Reference:\n",
    "https://michael-fuchs-python.netlify.app/2020/09/01/marketing-conversion-rate-analytics/\n",
    "\n",
    "The table is \"conversion data\". It has infomation about signed-in users during one session. Each row is a user session.\n",
    "\n",
    "Columns:\n",
    "\n",
    "- `country`: user country based on the IP address\n",
    "- `age`: user age. Self-reported at sign-in step\n",
    "- `new_user` : whether the user created the account during this session or had already an account and simply came back to the site\n",
    "- `source`: marketing channel source\n",
    "  - `Ads`: came to the site by clicking on an advertisement\n",
    "  - `Seo`: came to the site by clicking on search results\n",
    "  - `Direct`: came to the site by directly typing the URL on the browser\n",
    "- `total_pages_visited`: number of total pages visited during the session. This is a proxy for time spent on site and engagement during the session.\n",
    "- `converted`: this is our label. 1 means they converted within the session, 0 means they left without buying anything. The company goal is to increase conversion rate: # conversions / total sessions."
   ]
  },
  {
   "cell_type": "code",
   "execution_count": 1,
   "metadata": {},
   "outputs": [],
   "source": [
    "import pandas as pd\n",
    "import numpy as np\n",
    "import matplotlib.pyplot as plt\n",
    "import seaborn as sns"
   ]
  },
  {
   "cell_type": "code",
   "execution_count": 2,
   "metadata": {},
   "outputs": [
    {
     "data": {
      "text/html": [
       "<div>\n",
       "<style scoped>\n",
       "    .dataframe tbody tr th:only-of-type {\n",
       "        vertical-align: middle;\n",
       "    }\n",
       "\n",
       "    .dataframe tbody tr th {\n",
       "        vertical-align: top;\n",
       "    }\n",
       "\n",
       "    .dataframe thead th {\n",
       "        text-align: right;\n",
       "    }\n",
       "</style>\n",
       "<table border=\"1\" class=\"dataframe\">\n",
       "  <thead>\n",
       "    <tr style=\"text-align: right;\">\n",
       "      <th></th>\n",
       "      <th>country</th>\n",
       "      <th>age</th>\n",
       "      <th>new_user</th>\n",
       "      <th>source</th>\n",
       "      <th>total_pages_visited</th>\n",
       "      <th>converted</th>\n",
       "    </tr>\n",
       "  </thead>\n",
       "  <tbody>\n",
       "    <tr>\n",
       "      <th>0</th>\n",
       "      <td>UK</td>\n",
       "      <td>25</td>\n",
       "      <td>1</td>\n",
       "      <td>Ads</td>\n",
       "      <td>1</td>\n",
       "      <td>0</td>\n",
       "    </tr>\n",
       "    <tr>\n",
       "      <th>1</th>\n",
       "      <td>US</td>\n",
       "      <td>23</td>\n",
       "      <td>1</td>\n",
       "      <td>Seo</td>\n",
       "      <td>5</td>\n",
       "      <td>0</td>\n",
       "    </tr>\n",
       "    <tr>\n",
       "      <th>2</th>\n",
       "      <td>US</td>\n",
       "      <td>28</td>\n",
       "      <td>1</td>\n",
       "      <td>Seo</td>\n",
       "      <td>4</td>\n",
       "      <td>0</td>\n",
       "    </tr>\n",
       "  </tbody>\n",
       "</table>\n",
       "</div>"
      ],
      "text/plain": [
       "  country  age  new_user source  total_pages_visited  converted\n",
       "0      UK   25         1    Ads                    1          0\n",
       "1      US   23         1    Seo                    5          0\n",
       "2      US   28         1    Seo                    4          0"
      ]
     },
     "execution_count": 2,
     "metadata": {},
     "output_type": "execute_result"
    }
   ],
   "source": [
    "df = pd.read_csv('Conversion.csv')\n",
    "df.head(3)"
   ]
  },
  {
   "cell_type": "markdown",
   "metadata": {},
   "source": [
    "# Key Questions\n",
    "\n",
    "- How to increase the sales? Ans: Traffic x Conversion Rate x Average Order Value = Sales\n",
    "\n",
    "- KPI in this case? Ans: Conversion Rate (CVR).\n",
    "\n",
    "- Is any feature important for the conversion rate?\n",
    "\n",
    "- Which country has the highest conversion rate? and why?\n",
    "\n",
    "- Which marketing channel has the highest conversion rate? and why?\n",
    "\n",
    "- How to increase the conversion rate?\n",
    "\n",
    "Other\n",
    "\n",
    "- Is the ratio of new users to returning users different in different countries?"
   ]
  },
  {
   "cell_type": "markdown",
   "metadata": {},
   "source": [
    "# 1. Data Observation"
   ]
  },
  {
   "cell_type": "code",
   "execution_count": 64,
   "metadata": {},
   "outputs": [
    {
     "name": "stdout",
     "output_type": "stream",
     "text": [
      "<class 'pandas.core.frame.DataFrame'>\n",
      "RangeIndex: 316200 entries, 0 to 316199\n",
      "Data columns (total 6 columns):\n",
      " #   Column               Non-Null Count   Dtype \n",
      "---  ------               --------------   ----- \n",
      " 0   country              316200 non-null  object\n",
      " 1   age                  316200 non-null  int64 \n",
      " 2   new_user             316200 non-null  int64 \n",
      " 3   source               316200 non-null  object\n",
      " 4   total_pages_visited  316200 non-null  int64 \n",
      " 5   converted            316200 non-null  int64 \n",
      "dtypes: int64(4), object(2)\n",
      "memory usage: 14.5+ MB\n"
     ]
    }
   ],
   "source": [
    "df.info()"
   ]
  },
  {
   "cell_type": "code",
   "execution_count": 8,
   "metadata": {},
   "outputs": [
    {
     "name": "stdout",
     "output_type": "stream",
     "text": [
      "                 age       new_user  total_pages_visited      converted\n",
      "count  316200.000000  316200.000000        316200.000000  316200.000000\n",
      "mean       30.569858       0.685465             4.872966       0.032258\n",
      "std         8.271802       0.464331             3.341104       0.176685\n",
      "min        17.000000       0.000000             1.000000       0.000000\n",
      "25%        24.000000       0.000000             2.000000       0.000000\n",
      "50%        30.000000       1.000000             4.000000       0.000000\n",
      "75%        36.000000       1.000000             7.000000       0.000000\n",
      "max       123.000000       1.000000            29.000000       1.000000 \n",
      "\n",
      "Conversion: 10200 out of 316200\n",
      "Conversion Rate: 3.23%\n"
     ]
    }
   ],
   "source": [
    "# Package for EDA\n",
    "# from pandas_profiling import ProfileReport\n",
    "# profile = ProfileReport(df, title='Conversion Report', explorative=True)\n",
    "# profile.to_file('ConversionReport.html')\n",
    "\n",
    "# Descriptive statistic\n",
    "descriptiveStat = df.describe()\n",
    "print(descriptiveStat, '\\n')\n",
    "\n",
    "# Calculate Convertion Rate\n",
    "print('Conversion: %i out of %i' %(df['converted'].sum(),df.shape[0]))\n",
    "print('Conversion Rate: %0.2f%%' %(df['converted'].mean()*100))\n",
    "\n",
    "# 觀察發現 age 可能有離群值(max=123)\n",
    "# 觀察發現 total_pages_visited 可能有離群值(max=29)"
   ]
  },
  {
   "cell_type": "code",
   "execution_count": 69,
   "metadata": {},
   "outputs": [
    {
     "data": {
      "text/plain": [
       "new_user\n",
       "0     99456\n",
       "1    216744\n",
       "dtype: int64"
      ]
     },
     "execution_count": 69,
     "metadata": {},
     "output_type": "execute_result"
    }
   ],
   "source": [
    "df.groupby(['new_user']).size()"
   ]
  },
  {
   "cell_type": "code",
   "execution_count": 70,
   "metadata": {},
   "outputs": [
    {
     "data": {
      "text/plain": [
       "country\n",
       "China       76602\n",
       "Germany     13056\n",
       "UK          48450\n",
       "US         178092\n",
       "dtype: int64"
      ]
     },
     "execution_count": 70,
     "metadata": {},
     "output_type": "execute_result"
    }
   ],
   "source": [
    "df.groupby(['country']).size()"
   ]
  },
  {
   "cell_type": "code",
   "execution_count": 74,
   "metadata": {},
   "outputs": [
    {
     "data": {
      "text/plain": [
       "source\n",
       "Ads        88740\n",
       "Direct     72420\n",
       "Seo       155040\n",
       "dtype: int64"
      ]
     },
     "execution_count": 74,
     "metadata": {},
     "output_type": "execute_result"
    }
   ],
   "source": [
    "df.groupby(['source']).size()"
   ]
  },
  {
   "cell_type": "markdown",
   "metadata": {},
   "source": [
    "## 2. Data Cleaning"
   ]
  },
  {
   "cell_type": "markdown",
   "metadata": {},
   "source": [
    "Missing Value Check:\n",
    "\n",
    "No missing values in the dataset."
   ]
  },
  {
   "cell_type": "code",
   "execution_count": 9,
   "metadata": {},
   "outputs": [
    {
     "data": {
      "text/plain": [
       "country                0\n",
       "age                    0\n",
       "new_user               0\n",
       "source                 0\n",
       "total_pages_visited    0\n",
       "converted              0\n",
       "dtype: int64"
      ]
     },
     "execution_count": 9,
     "metadata": {},
     "output_type": "execute_result"
    }
   ],
   "source": [
    "# missing value\n",
    "df.isnull().sum()"
   ]
  },
  {
   "cell_type": "markdown",
   "metadata": {},
   "source": [
    "Outlier Check: \n",
    "\n",
    "There are some outliers in the dataset.\n",
    "- The maximum age is 123, which is not reasonable. \n",
    "- The maximum total_pages_visited is 29, which may be an outlier."
   ]
  },
  {
   "cell_type": "code",
   "execution_count": 23,
   "metadata": {},
   "outputs": [
    {
     "data": {
      "image/png": "[encoded data removed]",
      "text/plain": [
       "<Figure size 200x500 with 1 Axes>"
      ]
     },
     "metadata": {},
     "output_type": "display_data"
    }
   ],
   "source": [
    "# Boxplot 觀察 age 分佈狀況\n",
    "# 超過 Q3+1.5IQR ＆ Q1-1.5IQR 為離群值\n",
    "age = df['age']\n",
    "plt.figure(figsize=(2,5))\n",
    "plt.boxplot(age, showmeans=True)\n",
    "plt.title('age')\n",
    "plt.show()"
   ]
  },
  {
   "cell_type": "code",
   "execution_count": 26,
   "metadata": {},
   "outputs": [
    {
     "name": "stdout",
     "output_type": "stream",
     "text": [
      "Skewness: 0.52\n",
      "Kurtosis: -0.03\n"
     ]
    },
    {
     "data": {
      "image/png": "[encoded data removed]",
      "text/plain": [
       "<Figure size 500x500 with 1 Axes>"
      ]
     },
     "metadata": {},
     "output_type": "display_data"
    }
   ],
   "source": [
    "sns.displot(age)\n",
    "\n",
    "# Skewness and Kurtosis\n",
    "print(\"Skewness: {:.2f}\".format(df['age'].skew())) #0.51\n",
    "print(\"Kurtosis: {:.2f}\".format(df['age'].kurt())) #-0.04"
   ]
  },
  {
   "cell_type": "code",
   "execution_count": null,
   "metadata": {},
   "outputs": [
    {
     "data": {
      "text/html": [
       "<div>\n",
       "<style scoped>\n",
       "    .dataframe tbody tr th:only-of-type {\n",
       "        vertical-align: middle;\n",
       "    }\n",
       "\n",
       "    .dataframe tbody tr th {\n",
       "        vertical-align: top;\n",
       "    }\n",
       "\n",
       "    .dataframe thead th {\n",
       "        text-align: right;\n",
       "    }\n",
       "</style>\n",
       "<table border=\"1\" class=\"dataframe\">\n",
       "  <thead>\n",
       "    <tr style=\"text-align: right;\">\n",
       "      <th></th>\n",
       "      <th>country</th>\n",
       "      <th>age</th>\n",
       "      <th>new_user</th>\n",
       "      <th>source</th>\n",
       "      <th>total_pages_visited</th>\n",
       "      <th>converted</th>\n",
       "    </tr>\n",
       "  </thead>\n",
       "  <tbody>\n",
       "    <tr>\n",
       "      <th>90928</th>\n",
       "      <td>Germany</td>\n",
       "      <td>123</td>\n",
       "      <td>0</td>\n",
       "      <td>Seo</td>\n",
       "      <td>15</td>\n",
       "      <td>1</td>\n",
       "    </tr>\n",
       "    <tr>\n",
       "      <th>295581</th>\n",
       "      <td>UK</td>\n",
       "      <td>111</td>\n",
       "      <td>0</td>\n",
       "      <td>Ads</td>\n",
       "      <td>10</td>\n",
       "      <td>1</td>\n",
       "    </tr>\n",
       "  </tbody>\n",
       "</table>\n",
       "</div>"
      ],
      "text/plain": [
       "        country  age  new_user source  total_pages_visited  converted\n",
       "90928   Germany  123         0    Seo                   15          1\n",
       "295581       UK  111         0    Ads                   10          1"
      ]
     },
     "execution_count": 31,
     "metadata": {},
     "output_type": "execute_result"
    }
   ],
   "source": [
    "df[df['age'] > 100]"
   ]
  },
  {
   "cell_type": "code",
   "execution_count": 27,
   "metadata": {},
   "outputs": [
    {
     "data": {
      "image/png": "[encoded data removed]",
      "text/plain": [
       "<Figure size 200x500 with 1 Axes>"
      ]
     },
     "metadata": {},
     "output_type": "display_data"
    }
   ],
   "source": [
    "total_pages_visited = df['total_pages_visited']\n",
    "plt.figure(figsize=(2,5))\n",
    "plt.boxplot(total_pages_visited, showmeans=True)\n",
    "plt.title('total_pages_visited')\n",
    "plt.show()"
   ]
  },
  {
   "cell_type": "code",
   "execution_count": 28,
   "metadata": {},
   "outputs": [
    {
     "data": {
      "text/plain": [
       "<seaborn.axisgrid.FacetGrid at 0x11ee75330>"
      ]
     },
     "execution_count": 28,
     "metadata": {},
     "output_type": "execute_result"
    },
    {
     "data": {
      "image/png": "[encoded data removed]",
      "text/plain": [
       "<Figure size 500x500 with 1 Axes>"
      ]
     },
     "metadata": {},
     "output_type": "display_data"
    }
   ],
   "source": [
    "sns.displot(total_pages_visited)"
   ]
  },
  {
   "cell_type": "code",
   "execution_count": 30,
   "metadata": {},
   "outputs": [
    {
     "data": {
      "text/html": [
       "<div>\n",
       "<style scoped>\n",
       "    .dataframe tbody tr th:only-of-type {\n",
       "        vertical-align: middle;\n",
       "    }\n",
       "\n",
       "    .dataframe tbody tr th {\n",
       "        vertical-align: top;\n",
       "    }\n",
       "\n",
       "    .dataframe thead th {\n",
       "        text-align: right;\n",
       "    }\n",
       "</style>\n",
       "<table border=\"1\" class=\"dataframe\">\n",
       "  <thead>\n",
       "    <tr style=\"text-align: right;\">\n",
       "      <th></th>\n",
       "      <th>country</th>\n",
       "      <th>age</th>\n",
       "      <th>new_user</th>\n",
       "      <th>source</th>\n",
       "      <th>total_pages_visited</th>\n",
       "      <th>converted</th>\n",
       "    </tr>\n",
       "  </thead>\n",
       "  <tbody>\n",
       "    <tr>\n",
       "      <th>54</th>\n",
       "      <td>US</td>\n",
       "      <td>25</td>\n",
       "      <td>1</td>\n",
       "      <td>Direct</td>\n",
       "      <td>18</td>\n",
       "      <td>1</td>\n",
       "    </tr>\n",
       "    <tr>\n",
       "      <th>87</th>\n",
       "      <td>US</td>\n",
       "      <td>18</td>\n",
       "      <td>0</td>\n",
       "      <td>Direct</td>\n",
       "      <td>19</td>\n",
       "      <td>1</td>\n",
       "    </tr>\n",
       "    <tr>\n",
       "      <th>130</th>\n",
       "      <td>US</td>\n",
       "      <td>17</td>\n",
       "      <td>0</td>\n",
       "      <td>Ads</td>\n",
       "      <td>19</td>\n",
       "      <td>1</td>\n",
       "    </tr>\n",
       "    <tr>\n",
       "      <th>213</th>\n",
       "      <td>US</td>\n",
       "      <td>17</td>\n",
       "      <td>0</td>\n",
       "      <td>Seo</td>\n",
       "      <td>21</td>\n",
       "      <td>1</td>\n",
       "    </tr>\n",
       "    <tr>\n",
       "      <th>229</th>\n",
       "      <td>US</td>\n",
       "      <td>35</td>\n",
       "      <td>0</td>\n",
       "      <td>Seo</td>\n",
       "      <td>17</td>\n",
       "      <td>1</td>\n",
       "    </tr>\n",
       "    <tr>\n",
       "      <th>...</th>\n",
       "      <td>...</td>\n",
       "      <td>...</td>\n",
       "      <td>...</td>\n",
       "      <td>...</td>\n",
       "      <td>...</td>\n",
       "      <td>...</td>\n",
       "    </tr>\n",
       "    <tr>\n",
       "      <th>315553</th>\n",
       "      <td>UK</td>\n",
       "      <td>22</td>\n",
       "      <td>0</td>\n",
       "      <td>Seo</td>\n",
       "      <td>17</td>\n",
       "      <td>1</td>\n",
       "    </tr>\n",
       "    <tr>\n",
       "      <th>315748</th>\n",
       "      <td>China</td>\n",
       "      <td>26</td>\n",
       "      <td>1</td>\n",
       "      <td>Seo</td>\n",
       "      <td>18</td>\n",
       "      <td>0</td>\n",
       "    </tr>\n",
       "    <tr>\n",
       "      <th>316055</th>\n",
       "      <td>US</td>\n",
       "      <td>26</td>\n",
       "      <td>1</td>\n",
       "      <td>Ads</td>\n",
       "      <td>19</td>\n",
       "      <td>1</td>\n",
       "    </tr>\n",
       "    <tr>\n",
       "      <th>316087</th>\n",
       "      <td>US</td>\n",
       "      <td>19</td>\n",
       "      <td>1</td>\n",
       "      <td>Ads</td>\n",
       "      <td>19</td>\n",
       "      <td>1</td>\n",
       "    </tr>\n",
       "    <tr>\n",
       "      <th>316184</th>\n",
       "      <td>UK</td>\n",
       "      <td>26</td>\n",
       "      <td>1</td>\n",
       "      <td>Seo</td>\n",
       "      <td>16</td>\n",
       "      <td>1</td>\n",
       "    </tr>\n",
       "  </tbody>\n",
       "</table>\n",
       "<p>4338 rows × 6 columns</p>\n",
       "</div>"
      ],
      "text/plain": [
       "       country  age  new_user  source  total_pages_visited  converted\n",
       "54          US   25         1  Direct                   18          1\n",
       "87          US   18         0  Direct                   19          1\n",
       "130         US   17         0     Ads                   19          1\n",
       "213         US   17         0     Seo                   21          1\n",
       "229         US   35         0     Seo                   17          1\n",
       "...        ...  ...       ...     ...                  ...        ...\n",
       "315553      UK   22         0     Seo                   17          1\n",
       "315748   China   26         1     Seo                   18          0\n",
       "316055      US   26         1     Ads                   19          1\n",
       "316087      US   19         1     Ads                   19          1\n",
       "316184      UK   26         1     Seo                   16          1\n",
       "\n",
       "[4338 rows x 6 columns]"
      ]
     },
     "execution_count": 30,
     "metadata": {},
     "output_type": "execute_result"
    }
   ],
   "source": [
    "df[df['total_pages_visited'] > 15]"
   ]
  },
  {
   "cell_type": "markdown",
   "metadata": {},
   "source": [
    "Most of the outliers are converted sessions. \n",
    "\n",
    "We don't need to remove the outliers in this case because the outliers are reasonable."
   ]
  },
  {
   "cell_type": "markdown",
   "metadata": {},
   "source": [
    "## 3. Exploratory Data Analysis"
   ]
  },
  {
   "cell_type": "markdown",
   "metadata": {},
   "source": [
    "#### Correlation Analysis"
   ]
  },
  {
   "cell_type": "code",
   "execution_count": 45,
   "metadata": {},
   "outputs": [
    {
     "data": {
      "text/plain": [
       "<AxesSubplot: >"
      ]
     },
     "execution_count": 45,
     "metadata": {},
     "output_type": "execute_result"
    },
    {
     "data": {
      "image/png": "[encoded data removed]",
      "text/plain": [
       "<Figure size 640x480 with 2 Axes>"
      ]
     },
     "metadata": {},
     "output_type": "display_data"
    }
   ],
   "source": [
    "# Correlation Matrix\n",
    "sns.heatmap(df[['age','new_user','total_pages_visited','converted']].corr(), annot=True)"
   ]
  },
  {
   "cell_type": "markdown",
   "metadata": {},
   "source": [
    "According to the correlation matrix, the total_pages_visited is the most important feature for the conversion rate."
   ]
  },
  {
   "cell_type": "markdown",
   "metadata": {},
   "source": [
    "#### Coversion Rate Analysis"
   ]
  },
  {
   "cell_type": "code",
   "execution_count": null,
   "metadata": {},
   "outputs": [
    {
     "data": {
      "text/html": [
       "<div>\n",
       "<style scoped>\n",
       "    .dataframe tbody tr th:only-of-type {\n",
       "        vertical-align: middle;\n",
       "    }\n",
       "\n",
       "    .dataframe tbody tr th {\n",
       "        vertical-align: top;\n",
       "    }\n",
       "\n",
       "    .dataframe thead th {\n",
       "        text-align: right;\n",
       "    }\n",
       "</style>\n",
       "<table border=\"1\" class=\"dataframe\">\n",
       "  <thead>\n",
       "    <tr style=\"text-align: right;\">\n",
       "      <th></th>\n",
       "      <th>source</th>\n",
       "      <th>Ads</th>\n",
       "      <th>Direct</th>\n",
       "      <th>Seo</th>\n",
       "    </tr>\n",
       "    <tr>\n",
       "      <th>country</th>\n",
       "      <th>new_user</th>\n",
       "      <th></th>\n",
       "      <th></th>\n",
       "      <th></th>\n",
       "    </tr>\n",
       "  </thead>\n",
       "  <tbody>\n",
       "    <tr>\n",
       "      <th rowspan=\"2\" valign=\"top\">China</th>\n",
       "      <th>0</th>\n",
       "      <td>0.003363</td>\n",
       "      <td>0.002661</td>\n",
       "      <td>0.002657</td>\n",
       "    </tr>\n",
       "    <tr>\n",
       "      <th>1</th>\n",
       "      <td>0.000666</td>\n",
       "      <td>0.000820</td>\n",
       "      <td>0.000609</td>\n",
       "    </tr>\n",
       "    <tr>\n",
       "      <th rowspan=\"2\" valign=\"top\">Germany</th>\n",
       "      <th>0</th>\n",
       "      <td>0.154412</td>\n",
       "      <td>0.116408</td>\n",
       "      <td>0.141284</td>\n",
       "    </tr>\n",
       "    <tr>\n",
       "      <th>1</th>\n",
       "      <td>0.024448</td>\n",
       "      <td>0.024465</td>\n",
       "      <td>0.026934</td>\n",
       "    </tr>\n",
       "    <tr>\n",
       "      <th rowspan=\"2\" valign=\"top\">UK</th>\n",
       "      <th>0</th>\n",
       "      <td>0.125320</td>\n",
       "      <td>0.094571</td>\n",
       "      <td>0.117235</td>\n",
       "    </tr>\n",
       "    <tr>\n",
       "      <th>1</th>\n",
       "      <td>0.023109</td>\n",
       "      <td>0.024112</td>\n",
       "      <td>0.023555</td>\n",
       "    </tr>\n",
       "    <tr>\n",
       "      <th rowspan=\"2\" valign=\"top\">US</th>\n",
       "      <th>0</th>\n",
       "      <td>0.090679</td>\n",
       "      <td>0.071999</td>\n",
       "      <td>0.084901</td>\n",
       "    </tr>\n",
       "    <tr>\n",
       "      <th>1</th>\n",
       "      <td>0.017314</td>\n",
       "      <td>0.014706</td>\n",
       "      <td>0.016809</td>\n",
       "    </tr>\n",
       "  </tbody>\n",
       "</table>\n",
       "</div>"
      ],
      "text/plain": [
       "source                 Ads    Direct       Seo\n",
       "country new_user                              \n",
       "China   0         0.003363  0.002661  0.002657\n",
       "        1         0.000666  0.000820  0.000609\n",
       "Germany 0         0.154412  0.116408  0.141284\n",
       "        1         0.024448  0.024465  0.026934\n",
       "UK      0         0.125320  0.094571  0.117235\n",
       "        1         0.023109  0.024112  0.023555\n",
       "US      0         0.090679  0.071999  0.084901\n",
       "        1         0.017314  0.014706  0.016809"
      ]
     },
     "execution_count": 39,
     "metadata": {},
     "output_type": "execute_result"
    }
   ],
   "source": [
    "# Observate the CVR by different features(country, newuser)\n",
    "# 觀察不同國家(country)的新舊訪客(new_user)，在不同管道(source)下的轉換率\n",
    "# Using Pivot Table\n",
    "pivotTable = pd.pivot_table(df, index=['country','new_user'], columns='source',values='converted', aggfunc='mean')\n",
    "pivotTable"
   ]
  },
  {
   "cell_type": "code",
   "execution_count": 40,
   "metadata": {},
   "outputs": [
    {
     "data": {
      "text/plain": [
       "country  new_user  source\n",
       "China    0         Ads        0.34%\n",
       "                   Direct     0.27%\n",
       "                   Seo        0.27%\n",
       "         1         Ads        0.07%\n",
       "                   Direct     0.08%\n",
       "                   Seo        0.06%\n",
       "Germany  0         Ads       15.44%\n",
       "                   Direct    11.64%\n",
       "                   Seo       14.13%\n",
       "         1         Ads        2.44%\n",
       "                   Direct     2.45%\n",
       "                   Seo        2.69%\n",
       "UK       0         Ads       12.53%\n",
       "                   Direct     9.46%\n",
       "                   Seo       11.72%\n",
       "         1         Ads        2.31%\n",
       "                   Direct     2.41%\n",
       "                   Seo        2.36%\n",
       "US       0         Ads        9.07%\n",
       "                   Direct      7.2%\n",
       "                   Seo        8.49%\n",
       "         1         Ads        1.73%\n",
       "                   Direct     1.47%\n",
       "                   Seo        1.68%\n",
       "Name: converted, dtype: object"
      ]
     },
     "execution_count": 40,
     "metadata": {},
     "output_type": "execute_result"
    }
   ],
   "source": [
    "# Using Groupby() (alternative)\n",
    "df.groupby(['country','new_user','source'])['converted'].mean().apply(lambda x: str(round(x * 100,2)) + '%')"
   ]
  },
  {
   "cell_type": "markdown",
   "metadata": {},
   "source": [
    "Compare the conversion rate by different features."
   ]
  },
  {
   "cell_type": "code",
   "execution_count": 59,
   "metadata": {},
   "outputs": [
    {
     "data": {
      "text/plain": [
       "country\n",
       "China      0.13 %\n",
       "Germany    6.25 %\n",
       "UK         5.26 %\n",
       "US         3.78 %\n",
       "Name: converted, dtype: object"
      ]
     },
     "execution_count": 59,
     "metadata": {},
     "output_type": "execute_result"
    }
   ],
   "source": [
    "# by country\n",
    "df.groupby(['country'])['converted'].mean().apply(lambda x: str(round(x * 100, 2)) + ' %')"
   ]
  },
  {
   "cell_type": "code",
   "execution_count": 60,
   "metadata": {},
   "outputs": [
    {
     "data": {
      "text/plain": [
       "new_user\n",
       "0    7.2 %\n",
       "1    1.4 %\n",
       "Name: converted, dtype: object"
      ]
     },
     "execution_count": 60,
     "metadata": {},
     "output_type": "execute_result"
    }
   ],
   "source": [
    "# by new user\n",
    "df.groupby(['new_user'])['converted'].mean().apply(lambda x: str(round(x * 100, 2)) + ' %')"
   ]
  },
  {
   "cell_type": "code",
   "execution_count": 61,
   "metadata": {},
   "outputs": [
    {
     "data": {
      "text/plain": [
       "source\n",
       "Ads       3.45 %\n",
       "Direct    2.82 %\n",
       "Seo       3.29 %\n",
       "Name: converted, dtype: object"
      ]
     },
     "execution_count": 61,
     "metadata": {},
     "output_type": "execute_result"
    }
   ],
   "source": [
    "# by source\n",
    "df.groupby(['source'])['converted'].mean().apply(lambda x: str(round(x * 100, 2)) + ' %')"
   ]
  },
  {
   "cell_type": "code",
   "execution_count": null,
   "metadata": {},
   "outputs": [
    {
     "data": {
      "text/plain": [
       "<AxesSubplot: xlabel='age'>"
      ]
     },
     "execution_count": 77,
     "metadata": {},
     "output_type": "execute_result"
    },
    {
     "data": {
      "image/png": "[encoded data removed]",
      "text/plain": [
       "<Figure size 640x480 with 1 Axes>"
      ]
     },
     "metadata": {},
     "output_type": "display_data"
    }
   ],
   "source": [
    "# by age (remove 2 outlier)\n",
    "# IQR Method\n",
    "Q1 = df['age'].quantile(0.25)\n",
    "Q3 = df['age'].quantile(0.75)\n",
    "IQR = Q3 - Q1\n",
    "age_lower_bound = Q1 - 1.5 * IQR\n",
    "age_upper_bound = Q3 + 1.5 * IQR\n",
    "# remove outlier\n",
    "filtered_df = df[(df['age'] >= age_lower_bound) & (df['age'] <= age_upper_bound)]\n",
    "# plot\n",
    "filtered_df.groupby(['age'])['converted'].mean().plot()"
   ]
  },
  {
   "cell_type": "code",
   "execution_count": 6,
   "metadata": {},
   "outputs": [
    {
     "name": "stdout",
     "output_type": "stream",
     "text": [
      "    country  source  conversion_rate\n",
      "0     China     Ads         0.001484\n",
      "1     China  Direct         0.001374\n",
      "2     China     Seo         0.001224\n",
      "3   Germany     Ads         0.066755\n",
      "4   Germany  Direct         0.053422\n",
      "5   Germany     Seo         0.064055\n",
      "6        UK     Ads         0.055630\n",
      "7        UK  Direct         0.046267\n",
      "8        UK     Seo         0.053905\n",
      "9        US     Ads         0.040580\n",
      "10       US  Direct         0.032909\n",
      "11       US     Seo         0.038508\n"
     ]
    }
   ],
   "source": [
    "cvr = df.groupby(['country', 'source'])['converted'].mean().reset_index()\n",
    "cvr.rename(columns={'converted': 'conversion_rate'}, inplace=True)\n",
    "\n",
    "print(cvr)"
   ]
  },
  {
   "cell_type": "code",
   "execution_count": 3,
   "metadata": {},
   "outputs": [
    {
     "data": {
      "image/png": "[encoded data removed]",
      "text/plain": [
       "<Figure size 640x480 with 1 Axes>"
      ]
     },
     "metadata": {},
     "output_type": "display_data"
    }
   ],
   "source": [
    "sns.barplot(x='country', y='converted', hue='source', data=df, errorbar=None)\n",
    "plt.title('Conversion Rate by Country and Source')\n",
    "plt.ylabel('Conversion Rate')\n",
    "plt.xlabel('Country')\n",
    "plt.show()"
   ]
  },
  {
   "cell_type": "markdown",
   "metadata": {},
   "source": [
    "#### Old User ratio by country and source\n",
    "Check if the ratio of new users to returning users is different in different countries and sources."
   ]
  },
  {
   "cell_type": "code",
   "execution_count": 10,
   "metadata": {},
   "outputs": [
    {
     "data": {
      "text/plain": [
       "country  source\n",
       "China    Ads       0.696628\n",
       "         Direct    0.698677\n",
       "         Seo       0.699532\n",
       "Germany  Ads       0.674468\n",
       "         Direct    0.685056\n",
       "         Seo       0.675373\n",
       "UK       Ads       0.681832\n",
       "         Direct    0.685563\n",
       "         Seo       0.676022\n",
       "US       Ads       0.682872\n",
       "         Direct    0.682291\n",
       "         Seo       0.681333\n",
       "Name: new_user, dtype: float64"
      ]
     },
     "execution_count": 10,
     "metadata": {},
     "output_type": "execute_result"
    }
   ],
   "source": [
    "# no difference\n",
    "df.groupby(['country','source'])['new_user'].mean()"
   ]
  },
  {
   "cell_type": "markdown",
   "metadata": {},
   "source": [
    "## 4. Insights and Recommendations"
   ]
  },
  {
   "cell_type": "markdown",
   "metadata": {},
   "source": [
    "`Insights:`\n",
    "\n",
    "- Since the market environment between each country is quite different, the overll data analysis may not be suitable for each country. We need to analyze the data by country.\n",
    "\n",
    "- We observered that the new_user has a lower CVR than the old_user, no matter in which country or which marketing channel.\n",
    "\n",
    "- The CVR in Germany is the highest, however the traffic in Germany is the lowest.\n",
    "\n",
    "- The CVR in China is the lowest, however the traffic in China is the second highest.\n",
    "\n",
    "- There is a negative correlation between the age and the CVR. Which means the older users have a lower CVR.\n",
    "\n",
    "`Recommendations:`\n",
    "\n",
    "- Focus on CRM for turning the new users into returning users.\n",
    "\n",
    "- Increase the traffic in Germany.\n",
    "\n",
    "- Increase the CVR in China.\n",
    "\n",
    "- Focus on the younger users. (In this case, we don't take order value into consideration.)"
   ]
  }
 ],
 "metadata": {
  "kernelspec": {
   "display_name": "Python 3",
   "language": "python",
   "name": "python3"
  },
  "language_info": {
   "codemirror_mode": {
    "name": "ipython",
    "version": 3
   },
   "file_extension": ".py",
   "mimetype": "text/x-python",
   "name": "python",
   "nbconvert_exporter": "python",
   "pygments_lexer": "ipython3",
   "version": "3.10.5"
  }
 },
 "nbformat": 4,
 "nbformat_minor": 2
}
