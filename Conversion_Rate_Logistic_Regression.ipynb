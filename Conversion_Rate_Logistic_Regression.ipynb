{
 "cells": [
  {
   "cell_type": "markdown",
   "metadata": {},
   "source": [
    "# Conversion Predition by Logistic Regression"
   ]
  },
  {
   "cell_type": "code",
   "execution_count": null,
   "metadata": {},
   "outputs": [],
   "source": [
    "from sklearn import datasets\n",
    "from sklearn.preprocessing import StandardScaler\n",
    "from sklearn.model_selection import train_test_split\n",
    "import pandas as pd\n",
    "import numpy as np\n",
    "import seaborn as sns\n",
    "import matplotlib.pyplot as plt"
   ]
  },
  {
   "cell_type": "code",
   "execution_count": 2,
   "metadata": {},
   "outputs": [],
   "source": [
    "df = pd.read_csv('Conversion.csv')"
   ]
  },
  {
   "cell_type": "code",
   "execution_count": 32,
   "metadata": {},
   "outputs": [],
   "source": [
    "# Split feature(x) and label(y)\n",
    "X = df[['country', 'age', 'new_user', 'source', 'total_pages_visited']]\n",
    "y = df['converted']"
   ]
  },
  {
   "cell_type": "code",
   "execution_count": 33,
   "metadata": {},
   "outputs": [],
   "source": [
    "# One-hot Encoding\n",
    "from sklearn.preprocessing import OneHotEncoder\n",
    "\n",
    "encoder = OneHotEncoder(sparse_output=False)\n",
    "X_encoded = encoder.fit_transform(X)"
   ]
  },
  {
   "cell_type": "code",
   "execution_count": 34,
   "metadata": {},
   "outputs": [],
   "source": [
    "# Split Train and Test\n",
    "X_train, X_test, y_train, y_test = train_test_split(X_encoded, y, test_size=0.2, random_state=42)"
   ]
  },
  {
   "cell_type": "code",
   "execution_count": null,
   "metadata": {},
   "outputs": [],
   "source": [
    "# Build Logistic Regression Model\n",
    "from sklearn.linear_model import LogisticRegression\n",
    "\n",
    "clf = LogisticRegression(max_iter=500).fit(X_train, y_train)"
   ]
  },
  {
   "cell_type": "code",
   "execution_count": 37,
   "metadata": {},
   "outputs": [],
   "source": [
    "# Prefict\n",
    "y_pred = model.predict(X_test)"
   ]
  },
  {
   "cell_type": "code",
   "execution_count": 43,
   "metadata": {},
   "outputs": [
    {
     "name": "stdout",
     "output_type": "stream",
     "text": [
      "- Accuracy: 98.61%\n",
      "- Confussion Matrix:\n",
      " [[60968   249]\n",
      " [  628  1395]]\n",
      "- Report:\n",
      "               precision    recall  f1-score   support\n",
      "\n",
      "           0       0.99      1.00      0.99     61217\n",
      "           1       0.85      0.69      0.76      2023\n",
      "\n",
      "    accuracy                           0.99     63240\n",
      "   macro avg       0.92      0.84      0.88     63240\n",
      "weighted avg       0.99      0.99      0.99     63240\n",
      "\n",
      "- Coefficient:\n",
      " [[-2.67057894e+00  9.94958809e-01  8.16667815e-01  4.31420345e-01\n",
      "   1.42487003e+00  1.22619717e+00  1.05570173e+00  1.09473916e+00\n",
      "   1.01101636e+00  1.04864459e+00  9.56474277e-01  8.52564962e-01\n",
      "   7.20020899e-01  6.74621927e-01  5.19518149e-01  5.76496453e-01\n",
      "   5.20805255e-01  3.11333595e-01  2.64964760e-01  1.45367174e-01\n",
      "   1.94819973e-01  1.03422121e-01 -8.79073013e-02 -7.77723867e-02\n",
      "  -1.74743508e-01 -4.10571029e-01 -2.57233073e-01 -4.67046628e-01\n",
      "  -3.35254983e-01 -6.75521010e-01 -5.33491385e-01 -1.00440745e+00\n",
      "  -5.21888224e-01 -6.45736616e-01 -5.65458876e-01 -4.80565508e-01\n",
      "  -7.03517483e-01 -3.73026630e-01 -9.71452816e-01 -5.17314643e-01\n",
      "  -9.77111658e-01 -1.04195170e+00 -5.20635541e-01 -9.55860623e-01\n",
      "  -1.28737464e+00  2.50192918e-01 -4.08870091e-01  3.67185731e-01\n",
      "   2.84234424e-02 -2.01869566e-01 -6.81646518e-02 -1.25814526e-01\n",
      "  -1.69142193e-02 -5.50939222e-03 -1.66871085e-03 -3.24753433e-03\n",
      "  -1.38606590e-03 -1.28423430e-02 -2.36695487e-04  0.00000000e+00\n",
      "  -1.25528363e-03 -7.53854818e-05  6.58785530e-01  0.00000000e+00\n",
      "   6.52481770e-01 -1.08001374e+00 -8.19397113e-02 -2.55009998e-01\n",
      "  -9.05822588e-02 -7.36091280e+00 -6.78548894e+00 -6.67956733e+00\n",
      "  -5.90301477e+00 -5.31891070e+00 -4.54185049e+00 -3.95748749e+00\n",
      "  -3.13028490e+00 -2.32882708e+00 -1.66168639e+00 -9.57447742e-01\n",
      "  -9.64557675e-02  5.81687768e-01  1.39946884e+00  2.12304333e+00\n",
      "   2.97514913e+00  3.49458761e+00  4.12417026e+00  4.95329917e+00\n",
      "   4.95575856e+00  4.62398669e+00  4.25412439e+00  3.73815078e+00\n",
      "   3.22629722e+00  2.73950636e+00  2.50391048e+00  1.28894368e+00\n",
      "   5.46056673e-01  7.66261483e-01]]\n",
      "Intercept: [-1.47843134]\n"
     ]
    }
   ],
   "source": [
    "# Model Evaluation\n",
    "from sklearn.metrics import accuracy_score, confusion_matrix, classification_report\n",
    "\n",
    "accuracy = accuracy_score(y_test, y_pred)\n",
    "conf_matrix = confusion_matrix(y_test, y_pred)\n",
    "report = classification_report(y_test, y_pred)\n",
    "\n",
    "print(\"- Accuracy: {:.2f}%\".format(accuracy * 100))\n",
    "print(\"- Confussion Matrix:\\n\", conf_matrix)\n",
    "print(\"- Report:\\n\", report)\n",
    "\n",
    "# 可選：查看邏輯斯回歸模型的係數\n",
    "print(\"- Coefficient:\\n\", model.coef_)\n",
    "print(\"Intercept:\", model.intercept_)"
   ]
  }
 ],
 "metadata": {
  "kernelspec": {
   "display_name": "Python 3",
   "language": "python",
   "name": "python3"
  },
  "language_info": {
   "codemirror_mode": {
    "name": "ipython",
    "version": 3
   },
   "file_extension": ".py",
   "mimetype": "text/x-python",
   "name": "python",
   "nbconvert_exporter": "python",
   "pygments_lexer": "ipython3",
   "version": "3.10.5"
  }
 },
 "nbformat": 4,
 "nbformat_minor": 2
}
